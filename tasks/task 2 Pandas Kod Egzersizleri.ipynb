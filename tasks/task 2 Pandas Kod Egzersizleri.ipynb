{
 "cells": [
  {
   "cell_type": "markdown",
   "id": "6d5ff6ff",
   "metadata": {},
   "source": [
    "Tebrikler! Eğer **Pandas bölümünü** başarıyla tamamladıysanız, bu egzersizleri çözmeye artık hazırız!\n",
    "\n",
    "> O zaman hazırsanız hadi başlayalım!"
   ]
  },
  {
   "cell_type": "markdown",
   "id": "ce39aa46",
   "metadata": {},
   "source": [
    "## Görev 1:\n",
    "\n",
    "[Linkte](https://raw.githubusercontent.com/GoogleCloudPlatform/training-data-analyst/master/courses/data_analysis/lab1b/airports.csv) bulunan veri setini Pandas yardımıyla okuyun ve veri setinde yer alan **sütun isimlerini küçük harfe** çevirin."
   ]
  },
  {
   "cell_type": "code",
   "execution_count": 6,
   "id": "74e560bd",
   "metadata": {},
   "outputs": [
    {
     "data": {
      "text/html": [
       "<div>\n",
       "<style scoped>\n",
       "    .dataframe tbody tr th:only-of-type {\n",
       "        vertical-align: middle;\n",
       "    }\n",
       "\n",
       "    .dataframe tbody tr th {\n",
       "        vertical-align: top;\n",
       "    }\n",
       "\n",
       "    .dataframe thead th {\n",
       "        text-align: right;\n",
       "    }\n",
       "</style>\n",
       "<table border=\"1\" class=\"dataframe\">\n",
       "  <thead>\n",
       "    <tr style=\"text-align: right;\">\n",
       "      <th></th>\n",
       "      <th>iata</th>\n",
       "      <th>airport</th>\n",
       "      <th>city</th>\n",
       "      <th>state</th>\n",
       "      <th>country</th>\n",
       "      <th>latitude</th>\n",
       "      <th>longitude</th>\n",
       "    </tr>\n",
       "  </thead>\n",
       "  <tbody>\n",
       "    <tr>\n",
       "      <th>0</th>\n",
       "      <td>ABQ</td>\n",
       "      <td>Albuquerque International</td>\n",
       "      <td>Albuquerque</td>\n",
       "      <td>NM</td>\n",
       "      <td>USA</td>\n",
       "      <td>35.040222</td>\n",
       "      <td>-106.609194</td>\n",
       "    </tr>\n",
       "    <tr>\n",
       "      <th>1</th>\n",
       "      <td>ANC</td>\n",
       "      <td>Ted Stevens Anchorage International</td>\n",
       "      <td>Anchorage</td>\n",
       "      <td>AK</td>\n",
       "      <td>USA</td>\n",
       "      <td>61.174320</td>\n",
       "      <td>-149.996186</td>\n",
       "    </tr>\n",
       "    <tr>\n",
       "      <th>2</th>\n",
       "      <td>ATL</td>\n",
       "      <td>William B Hartsfield-Atlanta Intl</td>\n",
       "      <td>Atlanta</td>\n",
       "      <td>GA</td>\n",
       "      <td>USA</td>\n",
       "      <td>33.640444</td>\n",
       "      <td>-84.426944</td>\n",
       "    </tr>\n",
       "    <tr>\n",
       "      <th>3</th>\n",
       "      <td>AUS</td>\n",
       "      <td>Austin-Bergstrom International</td>\n",
       "      <td>Austin</td>\n",
       "      <td>TX</td>\n",
       "      <td>USA</td>\n",
       "      <td>30.194533</td>\n",
       "      <td>-97.669872</td>\n",
       "    </tr>\n",
       "    <tr>\n",
       "      <th>4</th>\n",
       "      <td>BDL</td>\n",
       "      <td>Bradley International</td>\n",
       "      <td>Windsor Locks</td>\n",
       "      <td>CT</td>\n",
       "      <td>USA</td>\n",
       "      <td>41.938874</td>\n",
       "      <td>-72.683228</td>\n",
       "    </tr>\n",
       "  </tbody>\n",
       "</table>\n",
       "</div>"
      ],
      "text/plain": [
       "  iata                              airport           city state country  \\\n",
       "0  ABQ            Albuquerque International    Albuquerque    NM     USA   \n",
       "1  ANC  Ted Stevens Anchorage International      Anchorage    AK     USA   \n",
       "2  ATL    William B Hartsfield-Atlanta Intl        Atlanta    GA     USA   \n",
       "3  AUS       Austin-Bergstrom International         Austin    TX     USA   \n",
       "4  BDL                Bradley International  Windsor Locks    CT     USA   \n",
       "\n",
       "    latitude   longitude  \n",
       "0  35.040222 -106.609194  \n",
       "1  61.174320 -149.996186  \n",
       "2  33.640444  -84.426944  \n",
       "3  30.194533  -97.669872  \n",
       "4  41.938874  -72.683228  "
      ]
     },
     "execution_count": 6,
     "metadata": {},
     "output_type": "execute_result"
    }
   ],
   "source": [
    "# Kodunuzu bu bölüme yazınız.\n",
    "import pandas as pd\n",
    "df = pd.read_csv(\"https://raw.githubusercontent.com/GoogleCloudPlatform/training-data-analyst/master/courses/data_analysis/lab1b/airports.csv\")\n",
    "\n",
    "df.columns = df.columns.str.lower()\n",
    "df.head()"
   ]
  },
  {
   "cell_type": "markdown",
   "id": "a369913d",
   "metadata": {},
   "source": [
    "## Görev 2:\n",
    "\n",
    "Veri seti içerisinde **tekrar eden gözlemler olup olmadığını** kontrol edin, eğer varsa bu gözlemleri veri setinizden kaldırın."
   ]
  },
  {
   "cell_type": "code",
   "execution_count": 7,
   "id": "c68b93c1",
   "metadata": {},
   "outputs": [
    {
     "data": {
      "text/plain": [
       "iata         0\n",
       "airport      0\n",
       "city         0\n",
       "state        0\n",
       "country      0\n",
       "latitude     0\n",
       "longitude    0\n",
       "dtype: int64"
      ]
     },
     "execution_count": 7,
     "metadata": {},
     "output_type": "execute_result"
    }
   ],
   "source": [
    "# Kodunuzu bu bölüme yazınız.\n",
    "df.isna().sum()\n",
    "\n",
    "df.dropna(inplace =True)\n",
    "df.isna().sum()\n"
   ]
  },
  {
   "cell_type": "markdown",
   "id": "595231f3",
   "metadata": {},
   "source": [
    "## Görev 3:\n",
    "\n",
    "Veri setinizi sadece **New York'da olan** havaalanlarının **ismini ve eyalet kodunu** gösterecek şekilde filtreleyin."
   ]
  },
  {
   "cell_type": "code",
   "execution_count": 8,
   "id": "37774550",
   "metadata": {},
   "outputs": [
    {
     "data": {
      "text/html": [
       "<div>\n",
       "<style scoped>\n",
       "    .dataframe tbody tr th:only-of-type {\n",
       "        vertical-align: middle;\n",
       "    }\n",
       "\n",
       "    .dataframe tbody tr th {\n",
       "        vertical-align: top;\n",
       "    }\n",
       "\n",
       "    .dataframe thead th {\n",
       "        text-align: right;\n",
       "    }\n",
       "</style>\n",
       "<table border=\"1\" class=\"dataframe\">\n",
       "  <thead>\n",
       "    <tr style=\"text-align: right;\">\n",
       "      <th></th>\n",
       "      <th>airport</th>\n",
       "      <th>state</th>\n",
       "    </tr>\n",
       "  </thead>\n",
       "  <tbody>\n",
       "    <tr>\n",
       "      <th>30</th>\n",
       "      <td>John F Kennedy Intl</td>\n",
       "      <td>NY</td>\n",
       "    </tr>\n",
       "    <tr>\n",
       "      <th>33</th>\n",
       "      <td>LaGuardia</td>\n",
       "      <td>NY</td>\n",
       "    </tr>\n",
       "  </tbody>\n",
       "</table>\n",
       "</div>"
      ],
      "text/plain": [
       "                airport state\n",
       "30  John F Kennedy Intl    NY\n",
       "33            LaGuardia    NY"
      ]
     },
     "execution_count": 8,
     "metadata": {},
     "output_type": "execute_result"
    }
   ],
   "source": [
    "# Kodunuzu bu bölüme yazınız.\n",
    "df_newyork = df[df[\"city\"] == 'New York']\n",
    "df_newyork = df_newyork[[\"airport\",\"state\"]] \n",
    "df_newyork"
   ]
  },
  {
   "cell_type": "markdown",
   "id": "0f6676ff",
   "metadata": {},
   "source": [
    "## Görev 4:\n",
    "\n",
    "Veri setinize **Enlem(Latitude) değeri 50'nin üzerinde olanlara 'North', altında olanlara 'South'** ve **Boylam(Longitude) değeri 0'ın üzerinde olanlara 'East', altında olanlara 'West'** olarak nitelendirecek şekilde 2 yeni sütun ekleyin."
   ]
  },
  {
   "cell_type": "code",
   "execution_count": 9,
   "id": "2fef072a",
   "metadata": {},
   "outputs": [
    {
     "name": "stdout",
     "output_type": "stream",
     "text": [
      "  iata                              airport           city state country  \\\n",
      "0  ABQ            Albuquerque International    Albuquerque    NM     USA   \n",
      "1  ANC  Ted Stevens Anchorage International      Anchorage    AK     USA   \n",
      "2  ATL    William B Hartsfield-Atlanta Intl        Atlanta    GA     USA   \n",
      "3  AUS       Austin-Bergstrom International         Austin    TX     USA   \n",
      "4  BDL                Bradley International  Windsor Locks    CT     USA   \n",
      "\n",
      "    latitude   longitude vertical_direction horizontal_direction  \n",
      "0  35.040222 -106.609194              South                 West  \n",
      "1  61.174320 -149.996186              North                 West  \n",
      "2  33.640444  -84.426944              South                 West  \n",
      "3  30.194533  -97.669872              South                 West  \n",
      "4  41.938874  -72.683228              South                 West  \n"
     ]
    }
   ],
   "source": [
    "# Kodunuzu bu bölüme yazınız.\n",
    "\n",
    "df['vertical_direction'] =  df[\"latitude\"].apply(lambda x : 'North' if x >50 else 'South')\n",
    "df['horizontal_direction']  = df['longitude'].apply(lambda x : 'East' if  x> 0 else 'West')\n",
    "print(df.head())\n",
    "\n"
   ]
  },
  {
   "cell_type": "markdown",
   "id": "0291041d",
   "metadata": {},
   "source": [
    "## Görev 5:\n",
    "\n",
    "Veri setinizi üretmiş olduğunuz önce **vertical_direction** sonra da **horizontal_direction** sütunlarına göre gruplayın ve gruplama sonucunda **o bölgelerde kaç tane havaalanı** olduğunu inceleyin."
   ]
  },
  {
   "cell_type": "code",
   "execution_count": 10,
   "id": "d985ccee",
   "metadata": {},
   "outputs": [
    {
     "data": {
      "text/plain": [
       "vertical_direction  horizontal_direction\n",
       "North               West                     19\n",
       "South               West                    318\n",
       "Name: airport, dtype: int64"
      ]
     },
     "execution_count": 10,
     "metadata": {},
     "output_type": "execute_result"
    }
   ],
   "source": [
    "# Kodunuzu bu bölüme yazınız.\n",
    "df.groupby([\"vertical_direction\",\"horizontal_direction\"])[\"airport\"].count()"
   ]
  },
  {
   "cell_type": "code",
   "execution_count": 9,
   "id": "3553cc23",
   "metadata": {},
   "outputs": [
    {
     "data": {
      "text/plain": [
       "'Merhaba'"
      ]
     },
     "execution_count": 9,
     "metadata": {},
     "output_type": "execute_result"
    }
   ],
   "source": [
    "cumle = 'Merhaba dünya ben geldim'\n",
    "def en_uzun_kelime_bul(cumle):\n",
    "    \n",
    "    kelimeler = cumle.split(' ')\n",
    "    kelime = max(kelimeler, key=len)\n",
    "\n",
    "    return kelime\n",
    "en_uzun_kelime_bul(cumle)\n",
    "\n"
   ]
  }
 ],
 "metadata": {
  "kernelspec": {
   "display_name": "Python 3 (ipykernel)",
   "language": "python",
   "name": "python3"
  },
  "language_info": {
   "codemirror_mode": {
    "name": "ipython",
    "version": 3
   },
   "file_extension": ".py",
   "mimetype": "text/x-python",
   "name": "python",
   "nbconvert_exporter": "python",
   "pygments_lexer": "ipython3",
   "version": "3.11.7"
  }
 },
 "nbformat": 4,
 "nbformat_minor": 5
}
