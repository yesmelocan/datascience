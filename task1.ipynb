{
 "cells": [
  {
   "cell_type": "markdown",
   "id": "3ae1b8ee",
   "metadata": {},
   "source": [
    "Tebrikler! Eğer **Veri Bilimi İçin Python Programlama bölümünü** başarıyla tamamladıysanız, bu egzersizleri çözmeye artık hazırız!\n",
    "\n",
    "> O zaman hazırsanız hadi başlayalım!"
   ]
  },
  {
   "cell_type": "markdown",
   "id": "5c25d4a8",
   "metadata": {},
   "source": [
    "## Görev 1:\n",
    "\n",
    "İsimleri **Alex, Marcus, Linda, Jennifer, Lisa**, yaşları **25, 34, 31, 48, 17** olacak şekilde 2 farklı liste tanımlayın."
   ]
  },
  {
   "cell_type": "code",
   "execution_count": 6,
   "id": "e3dafaac",
   "metadata": {},
   "outputs": [],
   "source": [
    "# Kodunuzu bu bölüme yazınız.\n",
    "name = [\"Alex\", \"Marcus\", \"Linda\", \"Jennifer\", \"Lisa\"]\n",
    "ages = [25,24,31,48,17]"
   ]
  },
  {
   "cell_type": "markdown",
   "id": "70131f3e",
   "metadata": {},
   "source": [
    "## Görev 2:\n",
    "\n",
    "Oluşturmuş olduğunuz bu listeleri kullanarak, listelerinizdeki verileri bir sözlük yapısında olacak şekilde tek bir **customers** değişkeni içerisinde toplayın ve ardından **customers** değişkenini ekrana yazdırın.\n",
    "\n",
    ">**İPUCU:** Boş bir customers sözlüğü oluşturup döngüler yardımıyla içine doldurmaya çalışın!"
   ]
  },
  {
   "cell_type": "code",
   "execution_count": 7,
   "id": "9fb47f04",
   "metadata": {},
   "outputs": [
    {
     "data": {
      "text/plain": [
       "{'Alex': 25, 'Marcus': 24, 'Linda': 31, 'Jennifer': 48, 'Lisa': 17}"
      ]
     },
     "execution_count": 7,
     "metadata": {},
     "output_type": "execute_result"
    }
   ],
   "source": [
    "# Kodunuzu bu bölüme yazınız.\n",
    "name = [\"Alex\", \"Marcus\", \"Linda\", \"Jennifer\", \"Lisa\"]\n",
    "ages = [25,24,31,48,17]\n",
    "customers = {}\n",
    "for i in range(len(name)):\n",
    "    customers[name[i]] = ages[i]\n",
    "\n",
    "customers\n",
    "        "
   ]
  },
  {
   "cell_type": "markdown",
   "id": "d4fa4e7b",
   "metadata": {},
   "source": [
    "## Görev 3:\n",
    "\n",
    "Şimdi de oluşturduğumuz değişkenimizdeki kişileri **yaşlarına göre büyükten küçüğe sıralı olacak şekilde** sözlüğümüzü güncelleyelim.\n",
    "\n",
    ">**İPUCU:** `sorted()` ve `.sort()` fonksiyonlarını hatırladınız mı?"
   ]
  },
  {
   "cell_type": "code",
   "execution_count": 8,
   "id": "87b80408",
   "metadata": {},
   "outputs": [
    {
     "data": {
      "text/plain": [
       "[('Jennifer', 48), ('Linda', 31), ('Alex', 25), ('Marcus', 24), ('Lisa', 17)]"
      ]
     },
     "execution_count": 8,
     "metadata": {},
     "output_type": "execute_result"
    }
   ],
   "source": [
    "# Kodunuzu bu bölüme yazınız.\n",
    "# Kodunuzu bu bölüme yazınız.\n",
    "name = [\"Alex\", \"Marcus\", \"Linda\", \"Jennifer\", \"Lisa\"]\n",
    "ages = [25,24,31,48,17]\n",
    "customers = {}\n",
    "for i in range(len(name)):\n",
    "    customers[name[i]] = ages[i]\n",
    "sorted_customers = sorted(customers.items(), key=lambda x: x[1], reverse=True)\n",
    "#orted(customers, key = lambda x: x[0],reverse = True)\n",
    "sorted_customers"
   ]
  },
  {
   "cell_type": "markdown",
   "id": "810b2f2a",
   "metadata": {},
   "source": [
    "## Görev 4:\n",
    "\n",
    "Son olarak da buraya kadar yapmış olduğumuz tüm işlemleri, karşı taraftan 2 tane liste girdisi alacak bir fonksiyon haline dönüştürelim. Ayrıca kullanıcın liste dışında bir formatta veri girişi yapması halinde de ekrana bir hata mesajı basın.\n",
    "\n",
    ">**NOT:** Fonksiyon ve değişken isimlerini mantıklı tanımlamayı ve fonksiyonunuzun kolaylıkla kullanılabilmesi için **Docstring** eklemeyi unutmayın!"
   ]
  },
  {
   "cell_type": "code",
   "execution_count": 30,
   "id": "5b19e389",
   "metadata": {},
   "outputs": [
    {
     "data": {
      "text/plain": [
       "{'Alex': 25,\n",
       " 'Marcus': 24,\n",
       " 'Linda': 31,\n",
       " 'Jennifer': 48,\n",
       " 'Lisa': 17,\n",
       " 'Melih': 28}"
      ]
     },
     "execution_count": 30,
     "metadata": {},
     "output_type": "execute_result"
    }
   ],
   "source": [
    "# Kodunuzu bu bölüme yazınız.\n",
    "name = [\"Alex\", \"Marcus\", \"Linda\", \"Jennifer\", \"Lisa\"]\n",
    "ages = [25,24,31,48,17]\n",
    "customers = {}\n",
    "for i in range(len(name)):\n",
    "    customers[name[i]] = ages[i]\n",
    "sorted_customers = sorted(customers.items(), key=lambda x: x[1], reverse=True)\n",
    "#orted(customers, key = lambda x: x[0],reverse = True)\n",
    "sorted_customers\n",
    "def customer_search (name_list,ages_list):\n",
    "    assert len(name_list) == len(ages_list),\"name and age values should be equal\"\n",
    "    for i in name_list : \n",
    "        assert type(i) == str ,(\"name should be string\")\n",
    "    for i in ages_list : \n",
    "        assert type(i) == int ,(\"age should be number\")\n",
    "    \n",
    "    for i,name in enumerate(name_list):\n",
    "        customers[name] = ages_list[i]\n",
    "    return customers\n",
    "name_list_me =[\"Melih\"]\n",
    "ages_list_me = [28]\n",
    "customer_search(name_list_me,ages_list_me)\n",
    "customers\n",
    "\n",
    "   #print(sorted_customers[name1]\n",
    "\n",
    "\n"
   ]
  },
  {
   "cell_type": "code",
   "execution_count": null,
   "id": "8d767516-e660-4a26-8f21-afee5533eec1",
   "metadata": {},
   "outputs": [],
   "source": [
    "\"\""
   ]
  }
 ],
 "metadata": {
  "kernelspec": {
   "display_name": "Python 3 (ipykernel)",
   "language": "python",
   "name": "python3"
  },
  "language_info": {
   "codemirror_mode": {
    "name": "ipython",
    "version": 3
   },
   "file_extension": ".py",
   "mimetype": "text/x-python",
   "name": "python",
   "nbconvert_exporter": "python",
   "pygments_lexer": "ipython3",
   "version": "3.11.7"
  }
 },
 "nbformat": 4,
 "nbformat_minor": 5
}
